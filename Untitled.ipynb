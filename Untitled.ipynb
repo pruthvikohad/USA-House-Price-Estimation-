{
 "cells": [
  {
   "cell_type": "code",
   "execution_count": 1,
   "id": "2c8a600f-39fa-4a71-a9db-b383549d7838",
   "metadata": {},
   "outputs": [
    {
     "name": "stdout",
     "output_type": "stream",
     "text": [
      "CSV files have been combined and saved as combined_house_prediction.csv\n"
     ]
    }
   ],
   "source": [
    "import pandas as pd\n",
    "import glob\n",
    "\n",
    "path = r'D:\\my_projects\\us house price prediction\\\\'\n",
    "all_files = glob.glob(path + \"*.csv\")\n",
    "dataframes = []\n",
    "\n",
    "for file in all_files:\n",
    "    df = pd.read_csv(file)\n",
    "    date_columns = [col for col in df.columns if 'DATE' in col]\n",
    "    if date_columns:\n",
    "        for date_column in date_columns:\n",
    "            df = df.drop_duplicates(subset=date_column)\n",
    "            temp_df = df[[date_column] + [col for col in df.columns if col != date_column]]\n",
    "            temp_df.set_index(date_column, inplace=True)\n",
    "            temp_df.columns = [f'{date_column}_{col}' for col in temp_df.columns]\n",
    "            dataframes.append(temp_df)\n",
    "\n",
    "combined_df = pd.concat(dataframes, axis=1, join='outer')\n",
    "combined_df.reset_index(inplace=True)\n",
    "combined_df.to_csv(\"combined_house_prediction.csv\", index=False)\n",
    "\n",
    "print(\"CSV files have been combined and saved as combined_house_prediction.csv\")\n"
   ]
  },
  {
   "cell_type": "markdown",
   "id": "1f38eb37-230f-4b04-b20c-2c1bcd9e4ab7",
   "metadata": {},
   "source": [
    "#### CSUSHPISA (S&P/Case-Shiller U.S. National Home Price Index): Measures the changes in the value of residential real estate. It’s crucial as it directly reflects housing price trends.\n",
    "\n",
    "#### DAXRNSA (Private Residential Fixed Investment): Represents the spending on residential real estate construction. It helps capture demand and investment trends in housing.\n",
    "\n",
    "#### GDP (Gross Domestic Product): Indicates the overall economic health of the country. A strong GDP is correlated with increased housing demand and higher prices.\n",
    "\n",
    "#### HOUST (Housing Starts): Tracks the number of new residential construction projects. It reflects supply-side activity in the housing market.\n",
    "\n",
    "#### LXXRNSA (Index of Real Estate Loans Outstanding): Measures the volume of real estate loans. It highlights the availability of credit for homebuyers and its impact on demand.\n",
    "\n",
    "#### MIXRNSA (Mortgage Delinquency Rate): Tracks the percentage of delinquent mortgage payments. It indicates financial stress in the housing market and potential downward price pressure.\n",
    "\n",
    "#### MORTGAGE30US (30-Year Fixed Mortgage Rate): Provides the average interest rate for 30-year fixed mortgages. It influences housing affordability and demand.\n",
    "\n",
    "#### NYXRSA (Existing Home Sales): Reflects the volume of previously owned homes sold. It provides insights into the liquidity and demand in the housing market.\n",
    "\n",
    "#### PERMIT (Building Permits): Tracks the number of permits issued for new construction. It’s a leading indicator of future housing supply.\n",
    "\n",
    "#### POPTHM (Population in Thousands): Represents population growth trends. Higher population increases demand for housing, driving prices up.\n",
    "\n",
    "#### SFXRNSA (Single-Family Home Starts): Measures the number of single-family homes under construction. It focuses on supply dynamics for this specific housing segment.\n",
    "\n",
    "#### UNRATE (Unemployment Rate): Indicates the proportion of unemployed individuals in the workforce. High unemployment reduces buying power and suppresses housing demand.\n",
    "\n",
    "#### CPI (Consumer Price Index): Reflects inflationary trends that impact housing costs and affordability.\n"
   ]
  },
  {
   "cell_type": "code",
   "execution_count": null,
   "id": "ae985db2-c811-453c-8bd0-418ab7a55b48",
   "metadata": {},
   "outputs": [],
   "source": []
  }
 ],
 "metadata": {
  "kernelspec": {
   "display_name": "Python 3 (ipykernel)",
   "language": "python",
   "name": "python3"
  },
  "language_info": {
   "codemirror_mode": {
    "name": "ipython",
    "version": 3
   },
   "file_extension": ".py",
   "mimetype": "text/x-python",
   "name": "python",
   "nbconvert_exporter": "python",
   "pygments_lexer": "ipython3",
   "version": "3.10.10"
  }
 },
 "nbformat": 4,
 "nbformat_minor": 5
}
